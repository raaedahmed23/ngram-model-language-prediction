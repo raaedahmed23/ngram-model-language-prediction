{
 "cells": [
  {
   "cell_type": "code",
   "execution_count": 1,
   "metadata": {},
   "outputs": [],
   "source": [
    "import pickle\n",
    "from nltk.util import ngrams\n",
    "from collections import Counter\n",
    "from nltk import word_tokenize"
   ]
  },
  {
   "cell_type": "code",
   "execution_count": 2,
   "metadata": {},
   "outputs": [],
   "source": [
    "# return unigram_dict, bigram_dict\n",
    "def create_ngram_counts(filepath):\n",
    "    with open(filepath, \"r\") as f:\n",
    "        raw_text = f.read()\n",
    "\n",
    "    raw_text = raw_text.replace(\"\\n\", \"\")\n",
    "    tokens = word_tokenize(raw_text)\n",
    "    tokens = [word.lower() for word in tokens]\n",
    "\n",
    "    unigrams = [x[0] for x in list(ngrams(tokens, 1))]\n",
    "    bigrams = list(ngrams(tokens, 2))\n",
    "\n",
    "    unigram_dict = dict(Counter(unigrams))\n",
    "    bigram_dict = dict(Counter(bigrams))\n",
    "\n",
    "    return unigram_dict, bigram_dict"
   ]
  },
  {
   "cell_type": "code",
   "execution_count": 3,
   "metadata": {},
   "outputs": [],
   "source": [
    "# pickle the generated dictionaries \n",
    "languages = [\"English\", \"French\", \"Italian\"]\n",
    "\n",
    "for lang in languages:\n",
    "    filepath = \"./data/LangId.train.\"\n",
    "    filepath += lang + \".txt\"\n",
    "\n",
    "    uni, bi = create_ngram_counts(filepath)\n",
    "\n",
    "    l = lang.lower()\n",
    "    uni_pickle = l + \"_uni.pickle\"\n",
    "    bi_pickle = l + \"_bi.pickle\"\n",
    "\n",
    "    with open(uni_pickle, \"wb\") as handle: \n",
    "        pickle.dump(uni, handle)\n",
    "    \n",
    "    with open(bi_pickle, \"wb\") as handle:\n",
    "        pickle.dump(bi, handle)"
   ]
  }
 ],
 "metadata": {
  "kernelspec": {
   "display_name": "ml",
   "language": "python",
   "name": "python3"
  },
  "language_info": {
   "codemirror_mode": {
    "name": "ipython",
    "version": 3
   },
   "file_extension": ".py",
   "mimetype": "text/x-python",
   "name": "python",
   "nbconvert_exporter": "python",
   "pygments_lexer": "ipython3",
   "version": "3.10.8"
  }
 },
 "nbformat": 4,
 "nbformat_minor": 2
}
