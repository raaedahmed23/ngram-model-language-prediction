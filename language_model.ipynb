{
 "cells": [
  {
   "cell_type": "code",
   "execution_count": 23,
   "metadata": {},
   "outputs": [],
   "source": [
    "import pickle\n",
    "from nltk.util import ngrams\n",
    "from collections import Counter\n",
    "from nltk import word_tokenize"
   ]
  },
  {
   "cell_type": "code",
   "execution_count": 63,
   "metadata": {},
   "outputs": [],
   "source": [
    "# return unigram_dict, bigram_dict\n",
    "def create_ngram_counts(filepath):\n",
    "    with open(filepath, \"r\") as f:\n",
    "        raw_text = f.read()\n",
    "\n",
    "    raw_text = raw_text.replace(\"\\n\", \"\")\n",
    "    tokens = word_tokenize(raw_text)\n",
    "    tokens = [word.lower() for word in tokens]\n",
    "\n",
    "    unigrams = [x[0] for x in list(ngrams(tokens, 1))]\n",
    "    bigrams = list(ngrams(tokens, 2))\n",
    "\n",
    "    unigram_dict = dict(Counter(unigrams))\n",
    "    bigram_dict = dict(Counter(bigrams))\n",
    "\n",
    "    return unigram_dict, bigram_dict"
   ]
  },
  {
   "cell_type": "code",
   "execution_count": 66,
   "metadata": {},
   "outputs": [
    {
     "name": "stdout",
     "output_type": "stream",
     "text": [
      "[('approval', 3), ('of', 2769), ('the', 5698), ('minutes', 11), ('previous', 13), ('sitting', 11), ('yesterday', 15), (\"'s\", 68), ('have', 491), ('been', 193)]\n",
      "[(('approval', 'of'), 3), (('of', 'the'), 904), (('the', 'minutes'), 6), (('minutes', 'of'), 2), (('the', 'previous'), 9), (('previous', 'sitting'), 2), (('sitting', 'the'), 1), (('of', 'yesterday'), 2), (('yesterday', \"'s\"), 2), ((\"'s\", 'sitting'), 1)]\n",
      "[('approbation', 4), ('du', 961), ('procès', 11), ('-', 2359), ('verbal', 6), ('de', 4019), ('la', 2581), ('séance', 15), ('précédente', 4), ('le', 1882)]\n",
      "[(('approbation', 'du'), 2), (('du', 'procès'), 1), (('procès', '-'), 7), (('-', 'verbal'), 6), (('verbal', 'de'), 2), (('de', 'la'), 723), (('la', 'séance'), 8), (('séance', 'précédente'), 1), (('précédente', 'le'), 1), (('le', 'procès'), 7)]\n",
      "[('approvazione', 7), ('del', 906), ('processo', 26), ('verbale', 7), ('della', 747), ('seduta', 13), ('precedente', 15), ('il', 1396), ('di', 2688), ('ieri', 16)]\n",
      "[(('approvazione', 'del'), 2), (('del', 'processo'), 5), (('processo', 'verbale'), 6), (('verbale', 'della'), 2), (('della', 'seduta'), 3), (('seduta', 'precedente'), 1), (('precedente', 'il'), 1), (('il', 'processo'), 9), (('seduta', 'di'), 2), (('di', 'ieri'), 3)]\n"
     ]
    }
   ],
   "source": [
    "# pickle the generated dictionaries \n",
    "languages = [\"English\", \"French\", \"Italian\"]\n",
    "\n",
    "for lang in languages:\n",
    "    filepath = \"./data/LangId.train.\"\n",
    "    filepath += lang + \".txt\"\n",
    "\n",
    "    uni, bi = create_ngram_counts(filepath)"
   ]
  },
  {
   "cell_type": "code",
   "execution_count": null,
   "metadata": {},
   "outputs": [],
   "source": []
  }
 ],
 "metadata": {
  "kernelspec": {
   "display_name": "ml",
   "language": "python",
   "name": "python3"
  },
  "language_info": {
   "codemirror_mode": {
    "name": "ipython",
    "version": 3
   },
   "file_extension": ".py",
   "mimetype": "text/x-python",
   "name": "python",
   "nbconvert_exporter": "python",
   "pygments_lexer": "ipython3",
   "version": "3.10.8"
  }
 },
 "nbformat": 4,
 "nbformat_minor": 2
}
