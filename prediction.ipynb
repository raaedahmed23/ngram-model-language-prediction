{
 "cells": [
  {
   "cell_type": "code",
   "execution_count": 1,
   "metadata": {},
   "outputs": [],
   "source": [
    "import math\n",
    "import pickle\n",
    "from nltk import word_tokenize\n",
    "from nltk.util import ngrams"
   ]
  },
  {
   "cell_type": "code",
   "execution_count": 2,
   "metadata": {},
   "outputs": [],
   "source": [
    "with open('english_uni.pickle', \"rb\") as handle:\n",
    "    english_uni = pickle.load(handle)\n",
    "\n",
    "with open('english_bi.pickle', \"rb\") as handle:\n",
    "    english_bi = pickle.load(handle)\n",
    "\n",
    "with open('french_uni.pickle', \"rb\") as handle:\n",
    "    french_uni = pickle.load(handle)\n",
    "\n",
    "with open('french_bi.pickle', \"rb\") as handle:\n",
    "    french_bi = pickle.load(handle)\n",
    "\n",
    "with open('italian_uni.pickle', \"rb\") as handle:\n",
    "    italian_uni = pickle.load(handle)\n",
    "\n",
    "with open('italian_bi.pickle', \"rb\") as handle:\n",
    "    italian_bi = pickle.load(handle)"
   ]
  },
  {
   "cell_type": "code",
   "execution_count": 3,
   "metadata": {},
   "outputs": [],
   "source": [
    "# total vocabulary length\n",
    "V = len(english_uni) + len(french_uni) + len(italian_uni)"
   ]
  },
  {
   "cell_type": "code",
   "execution_count": 4,
   "metadata": {},
   "outputs": [],
   "source": [
    "def compute_prob(text, unigram_dict, bigram_dict, V):\n",
    "    text = text.replace(\"\\n\", \"\")\n",
    "    unigrams_test = word_tokenize(text)\n",
    "    bigrams_test = list(ngrams(unigrams_test, 2))\n",
    "\n",
    "    p_laplace = 1 \n",
    "\n",
    "    for bigram in bigrams_test:\n",
    "        n = bigram_dict[bigram] if bigram in bigram_dict else 0\n",
    "        d = unigram_dict[bigram[0]] if bigram[0] in unigram_dict else 0\n",
    "\n",
    "        p_laplace = p_laplace * ((n + 1) / (d + V))\n",
    "\n",
    "    return p_laplace\n"
   ]
  },
  {
   "cell_type": "code",
   "execution_count": 5,
   "metadata": {},
   "outputs": [],
   "source": [
    "def language_probability(text):\n",
    "    p_eng = compute_prob(text, english_uni, english_bi, V)\n",
    "    p_fr = compute_prob(text, french_uni, french_bi, V)\n",
    "    p_it = compute_prob(text, italian_uni, italian_bi, V)\n",
    "\n",
    "    return {\"English\": p_eng, \"French\": p_fr, \"Italian\": p_it}"
   ]
  },
  {
   "cell_type": "code",
   "execution_count": 6,
   "metadata": {},
   "outputs": [],
   "source": [
    "# predictions \n",
    "with open(\"./data/LangId.test.txt\", \"r\") as f:\n",
    "    texts = f.readlines()\n",
    "\n",
    "predictions = []\n",
    "for text in texts:\n",
    "    probs = language_probability(text)\n",
    "    pred = max(probs, key = probs.get)\n",
    "    predictions.append(pred)\n",
    "\n",
    "# getting true values \n",
    "with open(\"./data/LangId.sol.txt\", \"r\") as f: \n",
    "    sol = f.readlines()\n",
    "\n",
    "true = [line.split(\" \")[1].strip() for line in sol]"
   ]
  },
  {
   "cell_type": "code",
   "execution_count": 7,
   "metadata": {},
   "outputs": [],
   "source": [
    "def calculate_accuracy(true, predictions):\n",
    "    if len(true) != len(predictions):\n",
    "        raise ValueError(\"The length of predictions and true values must be same\")\n",
    "    \n",
    "    correct_preds = sum([p == t for p, t in zip(predictions, true)])\n",
    "    incorred_preds = len(predictions) - correct_preds\n",
    "    accuracy = 100 * correct_preds / len(predictions)\n",
    "    \n",
    "    return float(\"{:0.2f}\".format(accuracy)), incorred_preds"
   ]
  },
  {
   "cell_type": "code",
   "execution_count": 8,
   "metadata": {},
   "outputs": [
    {
     "data": {
      "text/plain": [
       "96.67"
      ]
     },
     "execution_count": 8,
     "metadata": {},
     "output_type": "execute_result"
    }
   ],
   "source": [
    "acc, incorrect_pred = calculate_accuracy(true, predictions)\n",
    "print(f\"Accuracy of Ngram Model: {acc}\")\n",
    "print(f\"Number of incorrect predictions: {incorrect_pred}\")"
   ]
  },
  {
   "cell_type": "code",
   "execution_count": null,
   "metadata": {},
   "outputs": [],
   "source": []
  }
 ],
 "metadata": {
  "kernelspec": {
   "display_name": "ml",
   "language": "python",
   "name": "python3"
  },
  "language_info": {
   "codemirror_mode": {
    "name": "ipython",
    "version": 3
   },
   "file_extension": ".py",
   "mimetype": "text/x-python",
   "name": "python",
   "nbconvert_exporter": "python",
   "pygments_lexer": "ipython3",
   "version": "3.10.8"
  }
 },
 "nbformat": 4,
 "nbformat_minor": 2
}
